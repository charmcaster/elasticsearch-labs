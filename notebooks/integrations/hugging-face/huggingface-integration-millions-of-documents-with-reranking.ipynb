{
 "cells": [
  {
   "cell_type": "markdown",
   "id": "7a765629",
   "metadata": {},
   "source": [
    "# Semantic Search using the Inference API with the Hugging Face Inference Endpoints Service\n",
    "\n",
    "TODO [![Open In Colab](https://colab.research.google.com/assets/colab-badge.svg)](https://colab.research.google.com/github/elastic/elasticsearch-labs/blob/main/notebooks/search/TODO)\n",
    "\n",
    "\n",
    "Learn how to use the [Inference API](https://www.elastic.co/guide/en/elasticsearch/reference/current/inference-apis.html) with the Hugging Face Inference Endpoint service for semantic search."
   ]
  },
  {
   "cell_type": "markdown",
   "id": "f9101eb9",
   "metadata": {},
   "source": [
    "# 🧰 Requirements\n",
    "\n",
    "For this example, you will need:\n",
    "\n",
    "- An Elastic deployment:\n",
    "   - We'll be using [Elastic serverless](https://www.elastic.co/docs/current/serverless) for this example (available with a [free trial](https://cloud.elastic.co/registration?utm_source=github&utm_content=elasticsearch-labs-notebook))\n",
    "\n",
    "- Elasticsearch 8.14 or above.\n",
    "   \n",
    "- A paid [Hugging Face Inference Endpoint](https://huggingface.co/docs/inference-endpoints/guides/create_endpoint) is required to use the Inference API with \n",
    "the Hugging Face Inference Endpoint service."
   ]
  },
  {
   "cell_type": "markdown",
   "id": "4cd69cc0",
   "metadata": {},
   "source": [
    "# Create Elastic Cloud deployment or serverless project\n",
    "\n",
    "If you don't have an Elastic Cloud deployment, sign up [here](https://cloud.elastic.co/registration?utm_source=github&utm_content=elasticsearch-labs-notebook) for a free trial."
   ]
  },
  {
   "cell_type": "markdown",
   "id": "f27dffbf",
   "metadata": {},
   "source": [
    "# Install packages and connect with Elasticsearch Client\n",
    "\n",
    "To get started, we'll need to connect to our Elastic deployment using the Python client (version 8.12.0 or above).\n",
    "Because we're using an Elastic Cloud deployment, we'll use the **Cloud ID** to identify our deployment.\n",
    "\n",
    "First we need to `pip` install the following packages:\n",
    "\n",
    "- `elasticsearch`"
   ]
  },
  {
   "cell_type": "code",
   "execution_count": null,
   "id": "8c4b16bc",
   "metadata": {},
   "outputs": [],
   "source": [
    "!pip install elasticsearch\n",
    "!pip install datasets\n",
    "!pip install 'eland[pytorch]'"
   ]
  },
  {
   "cell_type": "markdown",
   "id": "41ef96b3",
   "metadata": {},
   "source": [
    "Next, we need to import the modules we need. 🔐 NOTE: getpass enables us to securely prompt the user for credentials without echoing them to the terminal, or storing it in memory."
   ]
  },
  {
   "cell_type": "code",
   "execution_count": null,
   "id": "690ff9af",
   "metadata": {},
   "outputs": [],
   "source": [
    "from elasticsearch import Elasticsearch, helpers\n",
    "from getpass import getpass\n",
    "import datasets\n",
    "from eland.ml.pytorch import PyTorchModel\n",
    "from eland.ml.pytorch.transformers import TransformerModel\n",
    "from pathlib import Path"
   ]
  },
  {
   "cell_type": "markdown",
   "id": "23fa2b6c",
   "metadata": {},
   "source": [
    "Now we can instantiate the Python Elasticsearch client.\n",
    "\n",
    "First we prompt the user for their password and Cloud ID.\n",
    "Then we create a `client` object that instantiates an instance of the `Elasticsearch` class."
   ]
  },
  {
   "cell_type": "code",
   "execution_count": null,
   "id": "195cc597",
   "metadata": {},
   "outputs": [],
   "source": [
    "# https://www.elastic.co/search-labs/tutorials/install-elasticsearch/elastic-cloud#finding-your-cloud-id\n",
    "ELASTIC_CLOUD_ID = getpass(\"Elastic Cloud ID: \")\n",
    "\n",
    "# https://www.elastic.co/search-labs/tutorials/install-elasticsearch/elastic-cloud#creating-an-api-key\n",
    "ELASTIC_API_KEY = getpass(\"Elastic Api Key: \")\n",
    "\n",
    "# Create the client instance\n",
    "client = Elasticsearch(\n",
    "    # For local development\n",
    "    # hosts=[\"http://localhost:9200\"]\n",
    "    cloud_id=ELASTIC_CLOUD_ID,\n",
    "    api_key=ELASTIC_API_KEY,\n",
    "    request_timeout=120,\n",
    "    max_retries=10,\n",
    "    retry_on_timeout=True,\n",
    ")"
   ]
  },
  {
   "cell_type": "markdown",
   "id": "b1115ffb",
   "metadata": {},
   "source": [
    "### Test the Client\n",
    "Before you continue, confirm that the client has connected with this test."
   ]
  },
  {
   "cell_type": "code",
   "execution_count": null,
   "id": "cc0de5ea",
   "metadata": {},
   "outputs": [],
   "source": [
    "print(client.info())\n",
    "\n",
    "\n",
    "# define this now so we can use it later\n",
    "def pretty_search_response(response):\n",
    "    if len(response[\"hits\"][\"hits\"]) == 0:\n",
    "        print(\"Your search returned no results.\")\n",
    "    else:\n",
    "        for hit in response[\"hits\"][\"hits\"]:\n",
    "            id = hit[\"_id\"]\n",
    "            score = hit[\"_score\"]\n",
    "            text = hit[\"_source\"][\"text_field\"]\n",
    "\n",
    "            pretty_output = f\"\\nID: {id}\\nScore: {score}\\nText: {text}\"\n",
    "\n",
    "            print(pretty_output)"
   ]
  },
  {
   "cell_type": "markdown",
   "id": "659c5890",
   "metadata": {},
   "source": [
    "Refer to [the documentation](https://www.elastic.co/guide/en/elasticsearch/client/python-api/current/connecting.html#connect-self-managed-new) to learn how to connect to a self-managed deployment.\n",
    "\n",
    "Read [this page](https://www.elastic.co/guide/en/elasticsearch/client/python-api/current/connecting.html#connect-self-managed-new) to learn how to connect using API keys."
   ]
  },
  {
   "cell_type": "markdown",
   "id": "840d92f0",
   "metadata": {},
   "source": [
    "<a name=\"create-the-inference-endpoint\"></a>\n",
    "## Create the inference endpoint object\n",
    "\n",
    "Let's create the inference endpoint by using the [Create inference API](https://www.elastic.co/guide/en/elasticsearch/reference/current/put-inference-api.html).\n",
    "\n",
    "You'll need an Hugging Face API key (access token) for this that you can find in your Hugging Face account under the [Access Tokens](https://huggingface.co/settings/tokens).\n",
    "\n",
    "You will also need to have created a [Hugging Face Inference Endpoint service instance](https://huggingface.co/docs/inference-endpoints/guides/create_endpoint) and noted the `url` of your instance. For this notebook, we deployed the `multilingual-e5-small` model."
   ]
  },
  {
   "cell_type": "code",
   "execution_count": null,
   "id": "0d007737",
   "metadata": {},
   "outputs": [],
   "source": [
    "API_KEY = getpass(\"Huggingface API key:  \")\n",
    "client.inference.put_model(\n",
    "    inference_id=\"my_hf_endpoint_object\",\n",
    "    body={\n",
    "        \"service\": \"hugging_face\",\n",
    "        \"service_settings\": {\n",
    "            \"api_key\": API_KEY,\n",
    "            \"url\": \"<hf-endpoint-url>\",\n",
    "            \"similarity\": \"dot_product\",\n",
    "        },\n",
    "    },\n",
    "    task_type=\"text_embedding\",\n",
    ")"
   ]
  },
  {
   "cell_type": "code",
   "execution_count": null,
   "id": "67f4201d",
   "metadata": {},
   "outputs": [],
   "source": [
    "client.inference.inference(\n",
    "    inference_id=\"my_hf_endpoint_object\", input=\"this is the raw text of my document!\"\n",
    ")"
   ]
  },
  {
   "cell_type": "markdown",
   "id": "1f2e48b7",
   "metadata": {},
   "source": [
    "**IMPORTANT:** If you use Elasticsearch 8.12, you must change `inference_id` in the snippet above to `model_id`! "
   ]
  },
  {
   "cell_type": "markdown",
   "id": "0346151d",
   "metadata": {},
   "source": [
    "#"
   ]
  },
  {
   "cell_type": "markdown",
   "id": "1024d070",
   "metadata": {},
   "source": [
    "## Create an ingest pipeline with an inference processor\n",
    "\n",
    "Create an ingest pipeline with an inference processor by using the [`put_pipeline`](https://www.elastic.co/guide/en/elasticsearch/reference/master/put-pipeline-api.html) method. Reference the `inference_id` created above as `model_id` to infer on the data that is being ingested by the pipeline."
   ]
  },
  {
   "cell_type": "code",
   "execution_count": null,
   "id": "6ace9e2e",
   "metadata": {},
   "outputs": [],
   "source": [
    "client.ingest.put_pipeline(\n",
    "    id=\"hf_pipeline\",\n",
    "    processors=[\n",
    "        {\n",
    "            \"inference\": {\n",
    "                \"model_id\": \"my_hf_endpoint_object\",\n",
    "                \"input_output\": {\n",
    "                    \"input_field\": \"text_field\",\n",
    "                    \"output_field\": \"text_embedding\",\n",
    "                },\n",
    "            }\n",
    "        }\n",
    "    ],\n",
    ")"
   ]
  },
  {
   "cell_type": "markdown",
   "id": "76d07567",
   "metadata": {},
   "source": [
    "Let's note a few important parameters from that API call:\n",
    "\n",
    "- `inference`: A processor that performs inference using a machine learning model.\n",
    "- `model_id`: Specifies the ID of the inference endpoint to be used. In this example, the inference ID is set to `my_hf_endpoint_object`. Use the inference ID you defined when created the inference task.\n",
    "- `input_output`: Specifies input and output fields.\n",
    "- `input_field`: Field name from which the `dense_vector` representation is created.\n",
    "- `output_field`:  Field name which contains inference results. "
   ]
  },
  {
   "cell_type": "markdown",
   "id": "28e12d7a",
   "metadata": {},
   "source": [
    "## Create index\n",
    "\n",
    "The mapping of the destination index - the index that contains the embeddings that the model will create based on your input text - must be created. The destination index must have a field with the [dense_vector](https://www.elastic.co/guide/en/elasticsearch/reference/current/dense-vector.html) field type to index the output of the model we deployed in Hugging Face (`multilingual-e5-small`).\n",
    "\n",
    "Let's create an index named `hf-endpoint-index` with the mappings we need."
   ]
  },
  {
   "cell_type": "code",
   "execution_count": null,
   "id": "6ddcbca3",
   "metadata": {},
   "outputs": [],
   "source": [
    "client.indices.create(\n",
    "    index=\"hf-endpoint-index\",\n",
    "    settings={\n",
    "        \"index\": {\n",
    "            \"default_pipeline\": \"hf_pipeline\",\n",
    "        }\n",
    "    },\n",
    "    mappings={\n",
    "        \"properties\": {\n",
    "            \"text\": {\"type\": \"text\"},\n",
    "            \"text_embedding\": {\n",
    "                \"type\": \"dense_vector\",\n",
    "                \"dims\": 384,\n",
    "                \"similarity\": \"dot_product\",\n",
    "            },\n",
    "        }\n",
    "    },\n",
    ")"
   ]
  },
  {
   "cell_type": "markdown",
   "id": "12aa3452",
   "metadata": {},
   "source": [
    "## If you are using Elasticsearch serverless or v8.15+ then you will have access to the new `semantic_text` field\n",
    "`semantic_text` has significantly faster ingest times and is recommended.\n",
    "\n",
    "https://github.com/elastic/elasticsearch/blob/main/docs/reference/mapping/types/semantic-text.asciidoc"
   ]
  },
  {
   "cell_type": "code",
   "execution_count": null,
   "id": "5eeb3755",
   "metadata": {},
   "outputs": [],
   "source": [
    "client.indices.create(\n",
    "    index=\"hf-semantic-text-index\",\n",
    "    mappings={\n",
    "        \"properties\": {\n",
    "            \"infer_field\": {\n",
    "                \"type\": \"semantic_text\",\n",
    "                \"inference_id\": \"my_hf_endpoint_object\",\n",
    "            },\n",
    "            \"text_field\": {\"type\": \"text\", \"copy_to\": \"infer_field\"},\n",
    "        }\n",
    "    },\n",
    ")"
   ]
  },
  {
   "cell_type": "markdown",
   "id": "07c187a9",
   "metadata": {},
   "source": [
    "## Insert Documents\n",
    "\n",
    "In this example, we want to show the power of using GPUs in Hugging Face's Inference Endpoint service by indexing millions of multilingual documents from the miracl corpus. The speed at which these documents ingest will depend on whether you use a semantic text field (faster) or an ingest pipeline (slower) and will also depend on how much hardware your rent for your Hugging Face inference endpoint. Using a semantic_text field with a single T4 GPU, it may take about 3 hours to index 1 million documents. "
   ]
  },
  {
   "cell_type": "code",
   "execution_count": null,
   "id": "d68737cb",
   "metadata": {},
   "outputs": [],
   "source": [
    "# langs = [\n",
    "#     \"ar\",\n",
    "#     \"bn\",\n",
    "#     \"en\",\n",
    "#     \"es\",\n",
    "#     \"fa\",\n",
    "#     \"fi\",\n",
    "#     \"fr\",\n",
    "#     \"hi\",\n",
    "#     \"id\",\n",
    "#     \"ja\",\n",
    "#     \"ko\",\n",
    "#     \"ru\",\n",
    "#     \"sw\",\n",
    "#     \"te\",\n",
    "#     \"th\",\n",
    "#     \"zh\",\n",
    "# ]\n",
    "\n",
    "langs = [\n",
    "    \"en\"\n",
    "]  # for this example, we just use english so that the results are also in english\n",
    "\n",
    "\n",
    "all_langs_datasets = [\n",
    "    iter(datasets.load_dataset(\"miracl/miracl-corpus\", lang)[\"train\"]) for lang in langs\n",
    "]"
   ]
  },
  {
   "cell_type": "code",
   "execution_count": null,
   "id": "7ccf9835",
   "metadata": {},
   "outputs": [],
   "source": [
    "MAX_BULK_SIZE = 1000\n",
    "MAX_BULK_UPLOADS = 1000\n",
    "\n",
    "sentinel = object()\n",
    "for j in range(MAX_BULK_UPLOADS):\n",
    "    documents = []\n",
    "    while len(documents) < MAX_BULK_SIZE - len(all_langs_datasets):\n",
    "        for ds in all_langs_datasets:\n",
    "            text = next(ds, sentinel)\n",
    "            if text is not sentinel:\n",
    "                documents.append(\n",
    "                    {\n",
    "                        \"_index\": \"hf-semantic-text-index\",\n",
    "                        \"_source\": {\"text_field\": text[\"text\"]},\n",
    "                    }\n",
    "                )\n",
    "                # if you are using an ingest pipeline instead of a\n",
    "                # semantic text field, use this instead:\n",
    "                # documents.append(\n",
    "                #     {\n",
    "                #         \"_index\": \"hf-endpoint-index\",\n",
    "                #         \"_source\": {\"text\": text['text']},\n",
    "                #     }\n",
    "                # )\n",
    "\n",
    "    try:\n",
    "        response = helpers.bulk(client, documents, raise_on_error=False, timeout=\"60s\")\n",
    "        print(response)\n",
    "        print(\"Docs uplaoded:\", (j + 1) * MAX_BULK_SIZE)\n",
    "\n",
    "    except Exception as e:\n",
    "        print(\"exception:\", str(e))"
   ]
  },
  {
   "cell_type": "markdown",
   "id": "cf0f6df7",
   "metadata": {},
   "source": [
    "## Semantic search\n",
    "\n",
    "After the dataset has been enriched with the embeddings, you can query the data using [semantic search](https://www.elastic.co/guide/en/elasticsearch/reference/current/knn-search.html#knn-semantic-search). Pass a `query_vector_builder` to the k-nearest neighbor (kNN) vector search API, and provide the query text and the model you have used to create the embeddings."
   ]
  },
  {
   "cell_type": "code",
   "execution_count": null,
   "id": "d9b21b71",
   "metadata": {},
   "outputs": [],
   "source": [
    "query = \"motor vehicles\"\n",
    "semantic_search_results = client.search(\n",
    "    index=\"hf-semantic-text-index\",\n",
    "    query={\"semantic\": {\"field\": \"infer_field\", \"query\": query}},\n",
    ")\n",
    "pretty_search_response(semantic_search_results)"
   ]
  },
  {
   "cell_type": "markdown",
   "id": "81c3f28a",
   "metadata": {},
   "source": [
    "## Reranking with elasticsearch"
   ]
  },
  {
   "cell_type": "markdown",
   "id": "934c54b4",
   "metadata": {},
   "source": [
    "First, import a reranking model into elasticsearch with eland"
   ]
  },
  {
   "cell_type": "code",
   "execution_count": null,
   "id": "916745f2",
   "metadata": {},
   "outputs": [],
   "source": [
    "# Load a Hugging Face transformers model directly from the model hub\n",
    "tm = TransformerModel(\n",
    "    model_id=\"cross-encoder/ms-marco-MiniLM-L-6-v2\", task_type=\"text_similarity\"\n",
    ")\n",
    "\n",
    "# Export the model in a TorchScrpt representation which Elasticsearch uses\n",
    "tmp_path = \"models\"\n",
    "Path(tmp_path).mkdir(parents=True, exist_ok=True)\n",
    "model_path, config, vocab_path = tm.save(tmp_path)\n",
    "\n",
    "# Import model into Elasticsearch\n",
    "ptm = PyTorchModel(client, tm.elasticsearch_model_id())\n",
    "ptm.import_model(\n",
    "    model_path=model_path, config_path=None, vocab_path=vocab_path, config=config\n",
    ")"
   ]
  },
  {
   "cell_type": "code",
   "execution_count": null,
   "id": "a7053b1e",
   "metadata": {},
   "outputs": [],
   "source": [
    "client.inference.put(\n",
    "    task_type=\"rerank\",\n",
    "    inference_id=\"es-rerank-endpoint\",\n",
    "    body={\n",
    "        \"service\": \"elasticsearch\",\n",
    "        \"service_settings\": {\n",
    "            \"model_id\": \"cross-encoder__ms-marco-minilm-l-6-v2\",\n",
    "            \"num_allocations\": 1,\n",
    "            \"num_threads\": 1,\n",
    "        },\n",
    "        \"task_settings\": {\"return_documents\": True},\n",
    "    },\n",
    ")"
   ]
  },
  {
   "cell_type": "code",
   "execution_count": null,
   "id": "6fba4f22",
   "metadata": {},
   "outputs": [],
   "source": [
    "reranked_search_results = client.search(\n",
    "    index=\"hf-semantic-text-index\",\n",
    "    retriever={\n",
    "        \"text_similarity_reranker\": {\n",
    "            \"retriever\": {\n",
    "                \"standard\": {\n",
    "                    \"query\": {\"semantic\": {\"field\": \"infer_field\", \"query\": query}}\n",
    "                }\n",
    "            },\n",
    "            \"field\": \"text_field\",\n",
    "            \"inference_id\": \"es-rerank-endpoint\",\n",
    "            \"inference_text\": query,\n",
    "            \"rank_window_size\": 100,\n",
    "        }\n",
    "    },\n",
    ")\n",
    "pretty_search_response(reranked_search_results)"
   ]
  }
 ],
 "metadata": {
  "kernelspec": {
   "display_name": "Python 3 (ipykernel)",
   "language": "python",
   "name": "python3"
  },
  "language_info": {
   "codemirror_mode": {
    "name": "ipython",
    "version": 3
   },
   "file_extension": ".py",
   "mimetype": "text/x-python",
   "name": "python",
   "nbconvert_exporter": "python",
   "pygments_lexer": "ipython3",
   "version": "3.11.4"
  }
 },
 "nbformat": 4,
 "nbformat_minor": 5
}
