{
 "cells": [
  {
   "cell_type": "markdown",
   "id": "68a13ecd",
   "metadata": {},
   "source": [
    "# Tutorial: Using Cohere with the elastic open inference API\n",
    "\n",
    "## TODO [![Open In Colab](https://colab.research.google.com/assets/colab-badge.svg)]()\n",
    "\n",
    "This tutorial shows you how to compute embeddings with\n",
    "Cohere using the elastic open inference API and store them for efficient vector or hybrid\n",
    "search in Elasticsearch. This tutorial uses the Python Elasticsearch client\n",
    "to perform the operations.\n",
    "\n",
    "You'll learn how to:\n",
    "* create an inference endpoint for text embedding using the Cohere service,\n",
    "* create the necessary index mapping for the Elasticsearch index using semantic search,\n",
    "* rerank with retrievers using Cohere's rerank model,\n",
    "* design a RAG system with Cohere's Chat API.\n",
    "\n",
    "The tutorial uses the [gqd/fictional-characters](https://huggingface.co/datasets/gqd/fictional-characters/blob/main/heros.json) data set.\n",
    "\n",
    "Refer to [Cohere's tutorial](https://docs.cohere.com/docs/elasticsearch-and-cohere) for an example using a different data set."
   ]
  },
  {
   "cell_type": "markdown",
   "id": "7f068b1b",
   "metadata": {},
   "source": [
    "## 🧰 Requirements\n",
    "\n",
    "For this example, you will need:\n",
    "\n",
    "- An Elastic deployment:\n",
    "   - We'll be using [Elastic serverless](https://www.elastic.co/docs/current/serverless) for this example (available with a [free trial](https://cloud.elastic.co/registration?utm_source=github&utm_content=elasticsearch-labs-notebook))\n",
    "   \n",
    "- A paid [Cohere account](https://cohere.com/) is required to use the Open Inference API with \n",
    "the Cohere service as the Cohere free trial API usage is limited.\n",
    "\n",
    "- Python 3.7+.\n",
    "\n",
    "- the 8.15+ python elasticsearch client"
   ]
  },
  {
   "cell_type": "markdown",
   "id": "aac02d37",
   "metadata": {},
   "source": [
    "## Install and import required packages\n",
    "\n",
    "Install Elasticsearch and Cohere:"
   ]
  },
  {
   "cell_type": "code",
   "execution_count": 10,
   "id": "50940b4d",
   "metadata": {},
   "outputs": [
    {
     "name": "stdout",
     "output_type": "stream",
     "text": [
      "Requirement already satisfied: elasticsearch==8.15 in /Users/mh/.venv/lib/python3.11/site-packages (8.15.0)\n",
      "Requirement already satisfied: elastic-transport<9,>=8.13 in /Users/mh/.venv/lib/python3.11/site-packages (from elasticsearch==8.15) (8.13.1)\n",
      "Requirement already satisfied: urllib3<3,>=1.26.2 in /Users/mh/.venv/lib/python3.11/site-packages (from elastic-transport<9,>=8.13->elasticsearch==8.15) (2.1.0)\n",
      "Requirement already satisfied: certifi in /Users/mh/.venv/lib/python3.11/site-packages (from elastic-transport<9,>=8.13->elasticsearch==8.15) (2023.11.17)\n",
      "\n",
      "\u001b[1m[\u001b[0m\u001b[34;49mnotice\u001b[0m\u001b[1;39;49m]\u001b[0m\u001b[39;49m A new release of pip is available: \u001b[0m\u001b[31;49m23.3.2\u001b[0m\u001b[39;49m -> \u001b[0m\u001b[32;49m24.2\u001b[0m\n",
      "\u001b[1m[\u001b[0m\u001b[34;49mnotice\u001b[0m\u001b[1;39;49m]\u001b[0m\u001b[39;49m To update, run: \u001b[0m\u001b[32;49mpip install --upgrade pip\u001b[0m\n"
     ]
    }
   ],
   "source": [
    "!pip install elasticsearch==8.15"
   ]
  },
  {
   "cell_type": "markdown",
   "id": "3b24d95b",
   "metadata": {},
   "source": [
    "Import the required packages:"
   ]
  },
  {
   "cell_type": "code",
   "execution_count": 11,
   "id": "1a5a5eeb",
   "metadata": {},
   "outputs": [],
   "source": [
    "from elasticsearch import Elasticsearch, helpers\n",
    "import json\n",
    "import requests\n",
    "from getpass import getpass"
   ]
  },
  {
   "cell_type": "markdown",
   "id": "3d0dacc5",
   "metadata": {},
   "source": [
    "## Create an Elasticsearch client"
   ]
  },
  {
   "cell_type": "markdown",
   "id": "74841401",
   "metadata": {},
   "source": [
    "Now you can instantiate the Python Elasticsearch client.\n",
    "\n",
    "First provide your password and Cloud ID.\n",
    "Then create a `client` object that instantiates an instance of the `Elasticsearch` class."
   ]
  },
  {
   "cell_type": "code",
   "execution_count": 13,
   "id": "76394974",
   "metadata": {},
   "outputs": [
    {
     "ename": "TypeError",
     "evalue": "Elasticsearch.__init__() got an unexpected keyword argument 'endpoint'",
     "output_type": "error",
     "traceback": [
      "\u001b[0;31m---------------------------------------------------------------------------\u001b[0m",
      "\u001b[0;31mTypeError\u001b[0m                                 Traceback (most recent call last)",
      "Cell \u001b[0;32mIn[13], line 6\u001b[0m\n\u001b[1;32m      3\u001b[0m ELASTIC_API_KEY \u001b[38;5;241m=\u001b[39m getpass(\u001b[38;5;124m\"\u001b[39m\u001b[38;5;124mElastic API key: \u001b[39m\u001b[38;5;124m\"\u001b[39m)\n\u001b[1;32m      5\u001b[0m \u001b[38;5;66;03m# Create the client instance\u001b[39;00m\n\u001b[0;32m----> 6\u001b[0m client \u001b[38;5;241m=\u001b[39m \u001b[43mElasticsearch\u001b[49m\u001b[43m(\u001b[49m\n\u001b[1;32m      7\u001b[0m \u001b[43m    \u001b[49m\u001b[38;5;66;43;03m# For local development\u001b[39;49;00m\n\u001b[1;32m      8\u001b[0m \u001b[43m    \u001b[49m\u001b[38;5;66;43;03m# hosts=[\"http://localhost:9200\"]\u001b[39;49;00m\n\u001b[1;32m      9\u001b[0m \u001b[43m    \u001b[49m\u001b[43mendpoint\u001b[49m\u001b[38;5;241;43m=\u001b[39;49m\u001b[43mELASTIC_SERVERLESS_ENDPOINT\u001b[49m\u001b[43m,\u001b[49m\n\u001b[1;32m     10\u001b[0m \u001b[43m    \u001b[49m\u001b[43mapi_key\u001b[49m\u001b[38;5;241;43m=\u001b[39;49m\u001b[43mELASTIC_API_KEY\u001b[49m\u001b[43m,\u001b[49m\n\u001b[1;32m     11\u001b[0m \u001b[43m)\u001b[49m\n\u001b[1;32m     13\u001b[0m \u001b[38;5;66;03m# Confirm the client has connected\u001b[39;00m\n\u001b[1;32m     14\u001b[0m \u001b[38;5;28mprint\u001b[39m(client\u001b[38;5;241m.\u001b[39minfo())\n",
      "\u001b[0;31mTypeError\u001b[0m: Elasticsearch.__init__() got an unexpected keyword argument 'endpoint'"
     ]
    }
   ],
   "source": [
    "ELASTIC_SERVERLESS_ENDPOINT = getpass(\"Elastic serverless endpoint: \")\n",
    "# https://www.elastic.co/search-labs/tutorials/install-elasticsearch/elastic-cloud#creating-an-api-key\n",
    "ELASTIC_API_KEY = getpass(\"Elastic API key: \")\n",
    "\n",
    "# Create the client instance\n",
    "client = Elasticsearch(\n",
    "    # For local development\n",
    "    # hosts=[\"http://localhost:9200\"]\n",
    "    endpoint=ELASTIC_SERVERLESS_ENDPOINT,\n",
    "    api_key=ELASTIC_API_KEY,\n",
    ")\n",
    "\n",
    "# Confirm the client has connected\n",
    "print(client.info())"
   ]
  },
  {
   "cell_type": "markdown",
   "id": "3d29b809",
   "metadata": {},
   "source": [
    "## Create the inference endpoints\n",
    "\n",
    "Create the inference endpoint first. In this example, the inference endpoint \n",
    "uses Cohere's `embed-english-v3.0` model and the `embedding_type` is set to\n",
    "`byte`."
   ]
  },
  {
   "cell_type": "code",
   "execution_count": null,
   "id": "ae8ae88c",
   "metadata": {},
   "outputs": [],
   "source": [
    "COHERE_API_KEY = getpass(\"Cohere API key: \")\n",
    "co = cohere.Client(api_key=COHERE_API_KEY)"
   ]
  },
  {
   "cell_type": "code",
   "execution_count": null,
   "id": "6e524ce4",
   "metadata": {},
   "outputs": [],
   "source": [
    "client.inference.put_model(\n",
    "    task_type=\"text_embedding\",\n",
    "    inference_id=\"cohere_embeddings\",\n",
    "    body={\n",
    "        \"service\": \"cohere\",\n",
    "        \"service_settings\": {\n",
    "            \"api_key\": COHERE_API_KEY,\n",
    "            \"model_id\": \"embed-english-v3.0\",\n",
    "            \"embedding_type\": \"byte\",\n",
    "        },\n",
    "    },\n",
    ")"
   ]
  },
  {
   "cell_type": "markdown",
   "id": "884e424d",
   "metadata": {},
   "source": [
    "You can find your API keys in your Cohere dashboard under the\n",
    "[API keys section](https://dashboard.cohere.com/api-keys)."
   ]
  },
  {
   "cell_type": "markdown",
   "id": "178c32db",
   "metadata": {},
   "source": [
    "## Create the index mapping\n",
    "\n",
    "Create the index mapping for the index that will contain the embeddings."
   ]
  },
  {
   "cell_type": "code",
   "execution_count": null,
   "id": "35ab26b2",
   "metadata": {},
   "outputs": [],
   "source": [
    "client.indices.create(\n",
    "    index=\"characters-index\",\n",
    "    mappings={\n",
    "        \"properties\": {\n",
    "            \"infer_field\": {\n",
    "                \"type\": \"semantic_text\",\n",
    "                \"inference_id\": \"cohere_embeddings\",\n",
    "            },\n",
    "            \"title\": {\"type\": \"text\", \"copy_to\": \"infer_field\"},\n",
    "        }\n",
    "    },\n",
    ")"
   ]
  },
  {
   "cell_type": "markdown",
   "id": "9c5e1e7b",
   "metadata": {},
   "source": [
    "## Prepare data and insert documents\n",
    "\n",
    "This example uses the [SciFact](https://huggingface.co/datasets/mteb/scifact) data\n",
    "set that you can find on HuggingFace."
   ]
  },
  {
   "cell_type": "code",
   "execution_count": 19,
   "id": "c71b8367",
   "metadata": {},
   "outputs": [
    {
     "name": "stdout",
     "output_type": "stream",
     "text": [
      "{'title': '\"Eat\" Owner', 'parsed': {'image': 'Vlcsnap-2016-09-06-05h31m34s50.png', 'origin': \"''Wander Over Yonder''\", 'fullname': 'Unknown', 'alias': '\"Eat\" Owner', 'occupation': 'Restaurant owner', 'skills': 'Management skills', 'goals': 'Manage his restaurant.<br>\\nHelp the rebels defeat Lord Dominator.<br>', 'hobby': '', 'family': 'Unknown', 'friends': 'Michelle', 'enemies': 'Lord Dominator', 'type of hero': 'Alien'}, 'origin': \"''Wander Over Yonder''\"}\n"
     ]
    },
    {
     "ename": "NameError",
     "evalue": "name 'client' is not defined",
     "output_type": "error",
     "traceback": [
      "\u001b[0;31m---------------------------------------------------------------------------\u001b[0m",
      "\u001b[0;31mNameError\u001b[0m                                 Traceback (most recent call last)",
      "Cell \u001b[0;32mIn[19], line 24\u001b[0m\n\u001b[1;32m     16\u001b[0m     documents\u001b[38;5;241m.\u001b[39mappend(\n\u001b[1;32m     17\u001b[0m         {\n\u001b[1;32m     18\u001b[0m             \u001b[38;5;124m\"\u001b[39m\u001b[38;5;124m_index\u001b[39m\u001b[38;5;124m\"\u001b[39m: \u001b[38;5;124m\"\u001b[39m\u001b[38;5;124mcohere-embeddings\u001b[39m\u001b[38;5;124m\"\u001b[39m,\n\u001b[1;32m     19\u001b[0m             \u001b[38;5;124m\"\u001b[39m\u001b[38;5;124m_source\u001b[39m\u001b[38;5;124m\"\u001b[39m: data_dict,\n\u001b[1;32m     20\u001b[0m         }\n\u001b[1;32m     21\u001b[0m     )\n\u001b[1;32m     23\u001b[0m \u001b[38;5;66;03m# Use the bulk endpoint to index\u001b[39;00m\n\u001b[0;32m---> 24\u001b[0m helpers\u001b[38;5;241m.\u001b[39mbulk(\u001b[43mclient\u001b[49m, documents)\n\u001b[1;32m     26\u001b[0m \u001b[38;5;28mprint\u001b[39m(\u001b[38;5;124m\"\u001b[39m\u001b[38;5;124mData ingestion completed, text embeddings generated!\u001b[39m\u001b[38;5;124m\"\u001b[39m)\n",
      "\u001b[0;31mNameError\u001b[0m: name 'client' is not defined"
     ]
    }
   ],
   "source": [
    "url = \"https://huggingface.co/datasets/gqd/fictional-characters/resolve/main/heros.json\"\n",
    "\n",
    "# Fetch the JSONL data from the URL\n",
    "response = requests.get(url)\n",
    "response.raise_for_status()  # Ensure we notice bad responses\n",
    "\n",
    "# Split the content by new lines and parse each line as JSON\n",
    "data = json.loads(response.text)\n",
    "\n",
    "print(data[0])\n",
    "\n",
    "# Prepare the documents to be indexed\n",
    "documents = []\n",
    "for line in data:\n",
    "    data_dict = line\n",
    "    documents.append(\n",
    "        {\n",
    "            \"_index\": \"characters-index\",\n",
    "            \"_source\": data_dict,\n",
    "        }\n",
    "    )\n",
    "\n",
    "# Use the bulk endpoint to index\n",
    "helpers.bulk(client, documents)\n",
    "\n",
    "print(\"Data ingestion completed, text embeddings generated!\")"
   ]
  },
  {
   "cell_type": "markdown",
   "id": "9332078a",
   "metadata": {},
   "source": [
    "Your index is populated with the SciFact data and text embeddings for the text\n",
    "field."
   ]
  },
  {
   "cell_type": "markdown",
   "id": "153ce2d5",
   "metadata": {},
   "source": [
    "## Add the rerank inference endpoint\n",
    "\n",
    "To combine the results more effectively, use \n",
    "[Cohere's Rerank v3](https://docs.cohere.com/docs/rerank-2) model through the\n",
    "inference API to provide a more precise semantic reranking of the results.\n",
    "\n",
    "Create an inference endpoint with your Cohere API key and the used model name as\n",
    "the `model_id` (`rerank-english-v3.0` in this example)."
   ]
  },
  {
   "cell_type": "code",
   "execution_count": null,
   "id": "886c4d15",
   "metadata": {},
   "outputs": [],
   "source": [
    "client.inference.put_model(\n",
    "    task_type=\"rerank\",\n",
    "    inference_id=\"cohere_rerank\",\n",
    "    body={\n",
    "        \"service\": \"cohere\",\n",
    "        \"service_settings\": {\n",
    "            \"api_key\": COHERE_API_KEY,\n",
    "            \"model_id\": \"rerank-english-v3.0\",\n",
    "        },\n",
    "        \"task_settings\": {\n",
    "            \"top_n\": 100,\n",
    "        },\n",
    "    },\n",
    ")"
   ]
  },
  {
   "cell_type": "markdown",
   "id": "ebf82d4a",
   "metadata": {},
   "source": [
    "Rerank the results using the new inference endpoint."
   ]
  },
  {
   "cell_type": "markdown",
   "id": "610035af",
   "metadata": {},
   "source": [
    "## Semantic search with reranking\n",
    "\n",
    "Let's start querying the index!"
   ]
  },
  {
   "cell_type": "code",
   "execution_count": null,
   "id": "ab735ef0",
   "metadata": {},
   "outputs": [],
   "source": [
    "def semantic_search_with_reranking(query):\n",
    "    return client.search(\n",
    "        index=\"characters-index\",\n",
    "        retriever={\n",
    "            \"text_similarity_reranker\": {\n",
    "                \"retriever\": {\n",
    "                    \"standard\": {\n",
    "                        \"query\": {\"semantic\": {\"field\": \"infer_field\", \"query\": query}}\n",
    "                    }\n",
    "                },\n",
    "                \"field\": \"titles\",\n",
    "                \"inference_id\": \"my_cohere_rerank_endpoint\",\n",
    "                \"inference_text\": query,\n",
    "                \"rank_window_size\": 100,\n",
    "            }\n",
    "        },\n",
    "    )"
   ]
  },
  {
   "cell_type": "code",
   "execution_count": null,
   "id": "3f0fc7e1",
   "metadata": {},
   "outputs": [],
   "source": [
    "pretty_print_characters(\n",
    "    semantic_search_with_reranking(\"Who are the stars of the Harry Potter series?\")\n",
    ")\n",
    "pretty_print_characters(\n",
    "    semantic_search_with_reranking(\"Who are the hobbits in the lord of the rings?\")\n",
    ")\n",
    "pretty_print_characters(\n",
    "    semantic_search_with_reranking(\"Who are the hobbits in the hobbit?\")\n",
    ")\n",
    "pretty_print_characters(\n",
    "    semantic_search_with_reranking(\"Who are the stars of star wars\")\n",
    ")\n",
    "pretty_print_characters(semantic_search_with_reranking(\"Who is the coolest character?\"))"
   ]
  },
  {
   "cell_type": "markdown",
   "id": "9539ff47",
   "metadata": {},
   "source": [
    "## Retrieval Augmented Generation (RAG) with Cohere and Elasticsearch\n",
    "\n",
    "RAG is a method for generating text using additional information fetched from an\n",
    "external data source. With the ranked results, you can build a RAG system on\n",
    "top of what you created with \n",
    "[Cohere's Chat API](https://docs.cohere.com/docs/chat-api).\n",
    "\n",
    "Pass in the retrieved documents and the query to receive a grounded response\n",
    "using Cohere's newest generative model \n",
    "[Command R+](https://docs.cohere.com/docs/command-r-plus).\n",
    "\n",
    "Then pass in the query and the documents to the Chat API, and print out the\n",
    "response."
   ]
  },
  {
   "cell_type": "code",
   "execution_count": 48,
   "id": "39badebf",
   "metadata": {},
   "outputs": [
    {
     "name": "stdout",
     "output_type": "stream",
     "text": [
      "Query: What is biosimilarity?\n",
      "Response: Biosimilarity is based on the comparability concept, which has been used successfully for several decades to ensure close similarity of a biological product before and after a manufacturing change. Over the last 10 years, experience with biosimilars has shown that even complex biotechnology-derived proteins can be copied successfully.\n",
      "Sources:\n",
      "Interchangeability of Biosimilars: A European Perspective: Many of the best-selling ‘blockbuster’ biological medicinal products are, or will soon be, facing competition from similar biological medicinal products (biosimilars) in the EU. Biosimilarity is based on the comparability concept, which has been used successfully for several decades to ensure close similarity of a biological product before and after a manufacturing change. Over the last 10 years, experience with biosimilars has shown that even complex biotechnology-derived proteins can be copied successfully. Most best-selling biologicals are used for chronic treatment. This has triggered intensive discussion on the interchangeability of a biosimilar with its reference product, with the main concern being immunogenicity. We explore the theoretical basis of the presumed risks of switching between a biosimilar and its reference product and the available data on switches. Our conclusion is that a switch between comparable versions of the same active substance approved in accordance with EU legislation is not expected to trigger or enhance immunogenicity. On the basis of current knowledge, it is unlikely and very difficult to substantiate that two products, comparable on a population level, would have different safety or efficacy in individual patients upon a switch. Our conclusion is that biosimilars licensed in the EU are interchangeable.\n"
     ]
    }
   ],
   "source": [
    "response = co.chat(message=query, documents=ranked_documents, model=\"command-r-plus\")\n",
    "\n",
    "source_documents = []\n",
    "for citation in response.citations:\n",
    "    for document_id in citation.document_ids:\n",
    "        if document_id not in source_documents:\n",
    "            source_documents.append(document_id)\n",
    "\n",
    "print(f\"Query: {query}\")\n",
    "print(f\"Response: {response.text}\")\n",
    "print(\"Sources:\")\n",
    "for document in response.documents:\n",
    "    if document[\"id\"] in source_documents:\n",
    "        print(f\"{document['title']}: {document['text']}\")"
   ]
  }
 ],
 "metadata": {
  "kernelspec": {
   "display_name": ".venv",
   "language": "python",
   "name": "python3"
  },
  "language_info": {
   "codemirror_mode": {
    "name": "ipython",
    "version": 3
   },
   "file_extension": ".py",
   "mimetype": "text/x-python",
   "name": "python",
   "nbconvert_exporter": "python",
   "pygments_lexer": "ipython3",
   "version": "3.11.4"
  }
 },
 "nbformat": 4,
 "nbformat_minor": 5
}
